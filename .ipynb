{
  "nbformat": 4,
  "nbformat_minor": 0,
  "metadata": {
    "colab": {
      "provenance": [],
      "toc_visible": true
    },
    "kernelspec": {
      "name": "python3",
      "display_name": "Python 3"
    },
    "language_info": {
      "name": "python"
    }
  },
  "cells": [
    {
      "cell_type": "markdown",
      "source": [
        "# Theory Questions"
      ],
      "metadata": {
        "id": "BpfBEBb2tF2e"
      }
    },
    {
      "cell_type": "markdown",
      "source": [
        "1. What is Python, and why is it popular ?\n",
        "   - Python is a high level,general purpose\n",
        "     programming language.Python is popular for -\n",
        "   1. Readability and ease of use\n",
        "   2. versatility\n",
        "   3. large and active community\n",
        "   4. Extensive libraries\n",
        "   5. Cross-Platform comptability.\n",
        "2. What is an interpreter in Python ?\n",
        "   - An interpreter is a program that executes code line by line,without needing to compile it into machine code beforehand.\n",
        "3. What are pre-defined keywords in Python ?\n",
        "   - In python, pre-defined keyword are reserved words that have special meanings and functionalities within the language.\n",
        "4. Can keywords be used as variable names ?\n",
        "   - No, keywords can not be used as variable names in Python.\n",
        "5. What is mutability in Python ?\n",
        "   - In python, mutability refers to the ability of an object to be changed after it is created.\n",
        "6. Why are lists mutable, but tuples are immutable ?\n",
        "   - Lists are mutable because list support item assignment but tuples are not support item assignment, so lists are mutable but tuples are immutable.\n",
        "7. What is the difference between “==” and “is” operators in Python ?\n",
        "   - The difference between \"==\" and \"is\" is -\n",
        "   \"==\" is used to checks for value eqaulity, while \"is\" is used to checks for object identity.\n",
        "8. What are logical operators in Python ?\n",
        "   - Logical operators are used to combine or modify boolean expressions (True or Flase). They are allow you to  create more complex conditions and control the flow of your programs.\n",
        "9. What is type casting in Python ?\n",
        "   - In python, type casting is a process of changing the data type of a value.\n",
        "10. What is the difference between implicit and explicit type casting ?\n",
        "    - Implicit type casting is performed by the  pyhton interpreter automatically, but Explicit type casting is performed by the programmer using inbuilt funstions.\n",
        "11. What is the purpose of conditional statements in Python ?\n",
        "    - The purpose of conditional statements in Python are -\n",
        "    1. Execute code selectively\n",
        "    2. Create branching logic\n",
        "    3. Control program flow.\n",
        "12. How does the elif statement work ?\n",
        "    - Elif statement is used to check  multiple coditions and add additional condition after an \"if\" statement.\n",
        "13. What is the difference between for and while loops ?\n",
        "    - \"for\" are used for iterating over a sequence of elements but the \"while\" are used for ececuting code until a specified condition becomes false.\n",
        "14. Describe a scenario where a while loop is more suitable than a for loop ?\n",
        "    - When you want to create a program that repeatedly prompts the use for input until they enter a specific value . In this scenario a while loop is more suitable than a for loop.\n",
        "   \n",
        "\n"
      ],
      "metadata": {
        "id": "lXBc8JQWvwoi"
      }
    },
    {
      "cell_type": "markdown",
      "source": [
        "#Practical Questions"
      ],
      "metadata": {
        "id": "7K-F2Dg-Zrv0"
      }
    },
    {
      "cell_type": "code",
      "source": [
        "# 1. Write a Python program to print \"Hello, World!\"\n",
        "# Ans-\n",
        "print(\"Hello,World!\")"
      ],
      "metadata": {
        "collapsed": true,
        "id": "AO97yHM-aED_"
      },
      "execution_count": null,
      "outputs": []
    },
    {
      "cell_type": "code",
      "source": [
        "# 2. Write a Python program that displays your name and age.\n",
        "# Ans-\n",
        "name = \"Sharad Chaurasiya\"\n",
        "age = 19\n",
        "print((\"name :\"),(name),\"age:\",(age))"
      ],
      "metadata": {
        "id": "AitoFSR6Z0GO"
      },
      "execution_count": null,
      "outputs": []
    },
    {
      "cell_type": "code",
      "source": [
        "# 3. Write code to print all the pre-defined keywords in Python using the keyword library.\n",
        "# Ans-\n",
        "help('keywords')"
      ],
      "metadata": {
        "id": "u7gKLe5tetI-"
      },
      "execution_count": null,
      "outputs": []
    },
    {
      "cell_type": "code",
      "source": [
        "# 4. Write a program that checks if a given word is a Python keyword.\n",
        "# Ans-\n",
        "import keyword\n",
        "a = input(\"enter a word:\")\n",
        "if keyword.iskeyword(a):\n",
        "  print(\"given word is a keyword\")\n",
        "else:\n",
        "  print(\"given word is not a keyword\")\n"
      ],
      "metadata": {
        "id": "Vpy4kkbsg4wi"
      },
      "execution_count": null,
      "outputs": []
    },
    {
      "cell_type": "code",
      "source": [
        "# 5. Create a list and tuple in Python, and demonstrate how attempting to change an element works differently for each.\n",
        "# Ans-\n",
        "# List\n",
        "my_list = [2,5,6,8,9]\n",
        "my_list[3] = 7\n",
        "print(my_list)\n",
        "# Tuple\n",
        "my_tuple = (1,3,5,6,8,9)\n",
        "new_tuple = my_tuple[:2] + (7,) + my_tuple[3:]\n",
        "print(new_tuple)"
      ],
      "metadata": {
        "id": "UU0mxHEBitY8"
      },
      "execution_count": null,
      "outputs": []
    },
    {
      "cell_type": "code",
      "source": [
        "# 6.  Write a function to demonstrate the behavior of mutable and immutable arguments.\n",
        "# Ans-\n",
        "def modify_list(my_list):\n",
        "  my_list.append(4)\n",
        "my_list = [1,2,3]\n",
        "modify_list(my_list)\n",
        "print(my_list)\n",
        "def modify_tuple(my_tuple):\n",
        "  my_tuple = my_tuple + (4,)\n",
        "  return my_tuple\n",
        "  my_tuple = (2,3,4,5)\n",
        "new_tuple = modify_tuple(my_tuple)\n",
        "print(new_tuple)"
      ],
      "metadata": {
        "id": "Uocr4Nhominu"
      },
      "execution_count": null,
      "outputs": []
    },
    {
      "cell_type": "code",
      "source": [
        "# 7. Write a program that performs basic arithmetic operations on two user-input numbers.\n",
        "# Ans-\n",
        "a = int(input(\"enter a number:\"))\n",
        "b = int(input(\"enter a number:\"))\n",
        "sum = a+b\n",
        "sub = a-b\n",
        "mul = a*b\n",
        "div = a/b\n",
        "print(\"sum = \",(sum))\n",
        "print(\"sub = \",(sub))\n",
        "print(\"mul = \",(mul))\n",
        "print(\"div = \",(div))"
      ],
      "metadata": {
        "id": "NF2w-GsZptSO"
      },
      "execution_count": null,
      "outputs": []
    },
    {
      "cell_type": "code",
      "source": [
        "# 8.  Write a program to demonstrate the use of logical operators.\n",
        "# Ans-\n",
        "a = True\n",
        "b= False\n",
        "print(a or b)\n",
        "print(a and b)"
      ],
      "metadata": {
        "id": "5OOgASSqrTD_"
      },
      "execution_count": null,
      "outputs": []
    },
    {
      "cell_type": "code",
      "source": [
        "# 9. Write a Python program to convert user input from string to integer, float, and boolean types.\n",
        "a = input(\"enter a word: \")\n",
        "b = int(a)\n",
        "c= float(a)\n",
        "d = bool(a)\n",
        "print(b)\n",
        "print(c)\n",
        "print(d)\n",
        "\n",
        "\n"
      ],
      "metadata": {
        "id": "8G-CQ-8EsP_3"
      },
      "execution_count": null,
      "outputs": []
    },
    {
      "cell_type": "code",
      "source": [
        "# 10.  Write code to demonstrate type casting with list elements.\n",
        "# Ans-\n",
        "my_list = [1,2,3,4,5]\n",
        "new_list = str(my_list)\n",
        "print(new_list)\n",
        "print(type(new_list))"
      ],
      "metadata": {
        "id": "KGEbFpBjv9NW"
      },
      "execution_count": null,
      "outputs": []
    },
    {
      "cell_type": "code",
      "source": [
        "# 11. Write a program that checks if a number is positive, negative, or zero.\n",
        "# Ans-\n",
        "a = int(input(\"enter a number:\"))\n",
        "if a>0:\n",
        "  print(\"number is positive\")\n",
        "elif a<0:\n",
        "  print(\"number is negative\")\n",
        "else:\n",
        "  print(\"number is zero\")"
      ],
      "metadata": {
        "id": "z7frq427xHoi"
      },
      "execution_count": null,
      "outputs": []
    },
    {
      "cell_type": "code",
      "source": [
        "# 12. Write a for loop to print numbers from 1 to 10.\n",
        "# Ans-\n",
        "for i in range(1,11):\n",
        "  print(i)"
      ],
      "metadata": {
        "id": "Z-lW9Gggx6TC"
      },
      "execution_count": null,
      "outputs": []
    },
    {
      "cell_type": "code",
      "source": [
        "# 13.  Write a Python program to find the sum of all even numbers between 1 and 50.\n",
        "# Ans-\n",
        "a = 0\n",
        "for i in range(1,51):\n",
        "  if i%2 == 0:\n",
        "    sum = a+i\n",
        "    print(sum)"
      ],
      "metadata": {
        "id": "fyZjNdbJ0vMA"
      },
      "execution_count": null,
      "outputs": []
    },
    {
      "cell_type": "code",
      "source": [
        "# 14. Write a program to reverse a string using a while loop.\n",
        "# Ans-\n",
        "def reverse_string(text):\n",
        "    reversed_text = \"\"\n",
        "    index = len(text) - 1\n",
        "    while index >= 0:\n",
        "        reversed_text += text[index]\n",
        "        index -= 1\n",
        "    return(reversed_text)\n",
        "input_string = input(\"enter a string:\")\n",
        "reserved_string = reverse_string(input_string)\n",
        "print(\"Reserved string:\",reserved_string)"
      ],
      "metadata": {
        "id": "rnGRvYaf40K4"
      },
      "execution_count": null,
      "outputs": []
    },
    {
      "cell_type": "code",
      "source": [
        "# 15.  Write a Python program to calculate the factorial of a number provided by the user using a while loop.\n",
        "# Ans-\n",
        "def factorial(n):\n",
        "  if n<0:\n",
        "    return(\"factorial is not defined for negative numbers\")\n",
        "  elif n == 0:\n",
        "     return 1\n",
        "  else:\n",
        "    factorial = 1\n",
        "    while n > 1:\n",
        "      factorial *= n\n",
        "      n -= 1\n",
        "    return factorial\n",
        "n = int(input(\"enter a non negative integer:\"))\n",
        "\n",
        "result = factorial(n)\n",
        "print(\"factorial of\",n,\"is\",result)\n"
      ],
      "metadata": {
        "id": "Ns81VwEOD-mf"
      },
      "execution_count": null,
      "outputs": []
    }
  ]
}